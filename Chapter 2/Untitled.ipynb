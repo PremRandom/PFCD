{
 "cells": [
  {
   "cell_type": "code",
   "execution_count": 1,
   "id": "7546d290",
   "metadata": {},
   "outputs": [
    {
     "name": "stdout",
     "output_type": "stream",
     "text": [
      "this is a doc string of function sample()\n"
     ]
    }
   ],
   "source": [
    "def sample(a):\n",
    "    \"\"\"this is a doc string of function sample()\"\"\"\n",
    "    \n",
    "    \n",
    "print(sample.__doc__)"
   ]
  },
  {
   "cell_type": "code",
   "execution_count": 2,
   "id": "8032ee88",
   "metadata": {},
   "outputs": [
    {
     "name": "stdout",
     "output_type": "stream",
     "text": [
      "enter a no.:7\n",
      "enter a no.:5\n",
      "75\n"
     ]
    }
   ],
   "source": [
    "var1 = input(\"enter a no.:\")\n",
    "var2 = input(\"enter a no.:\")\n",
    "\n",
    "print(var1 + var2)"
   ]
  },
  {
   "cell_type": "code",
   "execution_count": 5,
   "id": "d45b259b",
   "metadata": {},
   "outputs": [
    {
     "name": "stdout",
     "output_type": "stream",
     "text": [
      "enter a no.:7\n",
      "enter a no.:5\n",
      "12\n"
     ]
    }
   ],
   "source": [
    "var1 = int(input(\"enter a no.:\"))\n",
    "var2 = int(input(\"enter a no.:\"))\n",
    "\n",
    "print(var1 + var2) "
   ]
  },
  {
   "cell_type": "markdown",
   "id": "3a2098c2",
   "metadata": {},
   "source": [
    "### comparator operator :  ==  <=  >=  != < >"
   ]
  },
  {
   "cell_type": "code",
   "execution_count": 4,
   "id": "cbf804fb",
   "metadata": {},
   "outputs": [
    {
     "name": "stdout",
     "output_type": "stream",
     "text": [
      "True\n"
     ]
    }
   ],
   "source": [
    "\n",
    "x = 3\n",
    "print(1 <= x <= 5)"
   ]
  },
  {
   "cell_type": "markdown",
   "id": "932c33ea",
   "metadata": {},
   "source": [
    "### boolean : and or not"
   ]
  },
  {
   "cell_type": "code",
   "execution_count": 6,
   "id": "1ac641b8",
   "metadata": {},
   "outputs": [
    {
     "name": "stdout",
     "output_type": "stream",
     "text": [
      "whole family eats\n"
     ]
    }
   ],
   "source": [
    "\n",
    "food = \"maggie\"\n",
    "num = 4\n",
    "if(food == \"maggie\" and num >= 4):\n",
    "    print('whole family eats')\n"
   ]
  },
  {
   "cell_type": "code",
   "execution_count": 7,
   "id": "3eee4f91",
   "metadata": {},
   "outputs": [
    {
     "name": "stdout",
     "output_type": "stream",
     "text": [
      "please log in to continue!\n"
     ]
    }
   ],
   "source": [
    "logged_in = False\n",
    "if not(logged_in):\n",
    "    print(\"please log in to continue!\")\n",
    "    \n",
    "    "
   ]
  },
  {
   "cell_type": "markdown",
   "id": "535548e8",
   "metadata": {},
   "source": [
    "### objects and Dynamic Typing"
   ]
  },
  {
   "cell_type": "markdown",
   "id": "21933667",
   "metadata": {},
   "source": [
    "######## print(type)"
   ]
  }
 ],
 "metadata": {
  "kernelspec": {
   "display_name": "Python 3 (ipykernel)",
   "language": "python",
   "name": "python3"
  },
  "language_info": {
   "codemirror_mode": {
    "name": "ipython",
    "version": 3
   },
   "file_extension": ".py",
   "mimetype": "text/x-python",
   "name": "python",
   "nbconvert_exporter": "python",
   "pygments_lexer": "ipython3",
   "version": "3.11.4"
  }
 },
 "nbformat": 4,
 "nbformat_minor": 5
}
