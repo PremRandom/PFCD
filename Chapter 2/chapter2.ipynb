{
 "cells": [
  {
   "cell_type": "markdown",
   "id": "8491ec45",
   "metadata": {},
   "source": [
    "## Chapter 2"
   ]
  },
  {
   "cell_type": "markdown",
   "id": "36e028b7",
   "metadata": {},
   "source": [
    "### Doc String"
   ]
  },
  {
   "cell_type": "code",
   "execution_count": 1,
   "id": "24375ed2",
   "metadata": {},
   "outputs": [
    {
     "name": "stdout",
     "output_type": "stream",
     "text": [
      "this is a doc string of function sample()\n"
     ]
    }
   ],
   "source": [
    "def sample(a):\n",
    "    \"\"\"this is a doc string of function sample()\"\"\"\n",
    "    \n",
    "    \n",
    "print(sample.__doc__)"
   ]
  },
  {
   "cell_type": "markdown",
   "id": "e445cd9a",
   "metadata": {},
   "source": [
    "### input() example"
   ]
  },
  {
   "cell_type": "code",
   "execution_count": 2,
   "id": "3a21bd4e",
   "metadata": {},
   "outputs": [
    {
     "name": "stdout",
     "output_type": "stream",
     "text": [
      "enter a no.:76\n",
      "enter a no.:8\n",
      "768\n"
     ]
    }
   ],
   "source": [
    "var1 = input(\"enter a no.:\")\n",
    "var2 = input(\"enter a no.:\")\n",
    "\n",
    "print(var1 + var2)"
   ]
  },
  {
   "cell_type": "code",
   "execution_count": 3,
   "id": "fafee834",
   "metadata": {},
   "outputs": [
    {
     "name": "stdout",
     "output_type": "stream",
     "text": [
      "enter a no.:89\n",
      "enter a no.:45\n",
      "134\n"
     ]
    }
   ],
   "source": [
    "var1 = int(input(\"enter a no.:\"))\n",
    "var2 = int(input(\"enter a no.:\"))\n",
    "\n",
    "print(var1 + var2) "
   ]
  },
  {
   "cell_type": "markdown",
   "id": "fa822b85",
   "metadata": {},
   "source": [
    "### comparator operator :  ==  <=  >=  != < >"
   ]
  },
  {
   "cell_type": "code",
   "execution_count": 4,
   "id": "009b4cbe",
   "metadata": {},
   "outputs": [
    {
     "name": "stdout",
     "output_type": "stream",
     "text": [
      "True\n"
     ]
    }
   ],
   "source": [
    "\n",
    "x = 3\n",
    "print(1 <= x <= 5)"
   ]
  },
  {
   "cell_type": "markdown",
   "id": "6af943cd",
   "metadata": {},
   "source": [
    "### boolean : and or not"
   ]
  },
  {
   "cell_type": "code",
   "execution_count": 5,
   "id": "61404599",
   "metadata": {},
   "outputs": [
    {
     "name": "stdout",
     "output_type": "stream",
     "text": [
      "whole family eats\n"
     ]
    }
   ],
   "source": [
    "\n",
    "food = \"maggie\"\n",
    "num = 4\n",
    "if(food == \"maggie\" and num >= 4):\n",
    "    print('whole family eats')\n"
   ]
  },
  {
   "cell_type": "code",
   "execution_count": 6,
   "id": "1637c6d2",
   "metadata": {},
   "outputs": [
    {
     "name": "stdout",
     "output_type": "stream",
     "text": [
      "please log in to continue!\n"
     ]
    }
   ],
   "source": [
    "logged_in = False\n",
    "if not(logged_in):\n",
    "    print(\"please log in to continue!\")\n",
    "    \n",
    "    "
   ]
  },
  {
   "cell_type": "markdown",
   "id": "a25eb530",
   "metadata": {},
   "source": [
    "### objects and Dynamic Typing"
   ]
  },
  {
   "cell_type": "code",
   "execution_count": 7,
   "id": "94610910",
   "metadata": {},
   "outputs": [
    {
     "name": "stdout",
     "output_type": "stream",
     "text": [
      "<class 'float'>\n",
      "<class 'int'>\n",
      "<class 'str'>\n",
      "CSE\n"
     ]
    }
   ],
   "source": [
    " print(type(4.1))\n",
    "x = 5\n",
    "print(type(x))\n",
    "x = 'CSE'\n",
    "print(type(x))\n",
    "\n",
    "print(x)"
   ]
  },
  {
   "cell_type": "code",
   "execution_count": 8,
   "id": "223297bb",
   "metadata": {},
   "outputs": [
    {
     "name": "stdout",
     "output_type": "stream",
     "text": [
      "12\n",
      "7\n"
     ]
    }
   ],
   "source": [
    "x= 7\n",
    "print(x+5)\n",
    "print(x)"
   ]
  },
  {
   "cell_type": "code",
   "execution_count": 9,
   "id": "33c75a16",
   "metadata": {},
   "outputs": [
    {
     "name": "stdout",
     "output_type": "stream",
     "text": [
      "4\n"
     ]
    }
   ],
   "source": [
    "a,b,c = 5,4,2\n",
    "\n",
    "print((a**c + b)//c % a)"
   ]
  },
  {
   "cell_type": "markdown",
   "id": "128eff67",
   "metadata": {},
   "source": [
    "### Basic descriptive Statistics"
   ]
  },
  {
   "cell_type": "markdown",
   "id": "9069d862",
   "metadata": {},
   "source": [
    "#### Q Minimum of 3 numbers."
   ]
  },
  {
   "cell_type": "code",
   "execution_count": 10,
   "id": "f4e1a05f",
   "metadata": {},
   "outputs": [
    {
     "name": "stdout",
     "output_type": "stream",
     "text": [
      "Enter number 1:6\n",
      "Enter number 2:534\n",
      "Enter number 3:5\n",
      "5\n"
     ]
    }
   ],
   "source": [
    "x = int(input(\"Enter number 1:\"))\n",
    "y = int(input(\"Enter number 2:\"))\n",
    "z = int(input(\"Enter number 3:\"))\n",
    "\n",
    "min_v = x\n",
    "if(min_v >y):\n",
    "    min_v = y\n",
    "elif(min_v >z):\n",
    "    min_v = z\n",
    "\n",
    "\n",
    "print(min_v)"
   ]
  },
  {
   "cell_type": "code",
   "execution_count": 11,
   "id": "231b7a27",
   "metadata": {},
   "outputs": [
    {
     "name": "stdout",
     "output_type": "stream",
     "text": [
      "Enter number 1:346\n",
      "Enter number 2:654\n",
      "Enter number 3:65\n",
      "65\n",
      "654\n"
     ]
    }
   ],
   "source": [
    "x = int(input(\"Enter number 1:\"))\n",
    "y = int(input(\"Enter number 2:\"))\n",
    "z = int(input(\"Enter number 3:\"))\n",
    "\n",
    "print(min(x,y,z))\n",
    "print(max(x,y,z))"
   ]
  }
 ],
 "metadata": {
  "kernelspec": {
   "display_name": "Python 3 (ipykernel)",
   "language": "python",
   "name": "python3"
  },
  "language_info": {
   "codemirror_mode": {
    "name": "ipython",
    "version": 3
   },
   "file_extension": ".py",
   "mimetype": "text/x-python",
   "name": "python",
   "nbconvert_exporter": "python",
   "pygments_lexer": "ipython3",
   "version": "3.11.4"
  }
 },
 "nbformat": 4,
 "nbformat_minor": 5
}
