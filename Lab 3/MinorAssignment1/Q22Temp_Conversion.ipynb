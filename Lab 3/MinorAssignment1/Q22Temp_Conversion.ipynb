{
 "cells": [
  {
   "cell_type": "code",
   "execution_count": 1,
   "id": "47d780f2",
   "metadata": {},
   "outputs": [],
   "source": [
    "def fahrenheit(c):\n",
    "    return((c*(9/5))+32)"
   ]
  },
  {
   "cell_type": "code",
   "execution_count": 2,
   "id": "ed72e9eb",
   "metadata": {},
   "outputs": [],
   "source": [
    "def kelvin(c):\n",
    "    return (c+273.15)"
   ]
  },
  {
   "cell_type": "code",
   "execution_count": 5,
   "id": "05b03e47",
   "metadata": {},
   "outputs": [
    {
     "name": "stdout",
     "output_type": "stream",
     "text": [
      "Enter temp in celsius: 37.5\n",
      "temp in fahrenheit: 99.5 degrees\n",
      " temp in kelvin 310.65 degrees\n"
     ]
    }
   ],
   "source": [
    "if __name__ == \"__main__\":\n",
    "    x = float(input(\"Enter temp in celsius: \"))\n",
    "    print(f\"temp in fahrenheit: {fahrenheit(x)} degrees\\n temp in kelvin {kelvin(x)} degrees\")"
   ]
  }
 ],
 "metadata": {
  "kernelspec": {
   "display_name": "Python 3 (ipykernel)",
   "language": "python",
   "name": "python3"
  },
  "language_info": {
   "codemirror_mode": {
    "name": "ipython",
    "version": 3
   },
   "file_extension": ".py",
   "mimetype": "text/x-python",
   "name": "python",
   "nbconvert_exporter": "python",
   "pygments_lexer": "ipython3",
   "version": "3.11.4"
  }
 },
 "nbformat": 4,
 "nbformat_minor": 5
}
