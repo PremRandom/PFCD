{
 "cells": [
  {
   "cell_type": "code",
   "execution_count": 1,
   "id": "cfdac9e7",
   "metadata": {},
   "outputs": [],
   "source": [
    "def return_calc(p,r,n):\n",
    "    \"\"\" p = principle amount\n",
    "        r = rate of interest\n",
    "        n = number of years\"\"\"\n",
    "    return (p*((1+r)**n))"
   ]
  },
  {
   "cell_type": "code",
   "execution_count": 4,
   "id": "3df01b4a",
   "metadata": {},
   "outputs": [
    {
     "name": "stdout",
     "output_type": "stream",
     "text": [
      "With starting Investment as Rs. 1000 and rate of interest: 12%\n",
      "after 10 year: Rs 3105.8482083442123\n",
      "after 20 year: Rs 9646.293093274951\n",
      "after 30 year: Rs 29959.92212091116\n"
     ]
    }
   ],
   "source": [
    "if __name__ == \"__main__\":\n",
    "    print(\"With starting Investment as Rs. 1000 and rate of interest: 12%\")\n",
    "    print(\"after 10 year: Rs\", return_calc(1000,0.12,10))\n",
    "    print(\"after 20 year: Rs\", return_calc(1000,0.12,20))\n",
    "    print(\"after 30 year: Rs\", return_calc(1000,0.12,30))"
   ]
  }
 ],
 "metadata": {
  "kernelspec": {
   "display_name": "Python 3 (ipykernel)",
   "language": "python",
   "name": "python3"
  },
  "language_info": {
   "codemirror_mode": {
    "name": "ipython",
    "version": 3
   },
   "file_extension": ".py",
   "mimetype": "text/x-python",
   "name": "python",
   "nbconvert_exporter": "python",
   "pygments_lexer": "ipython3",
   "version": "3.11.4"
  }
 },
 "nbformat": 4,
 "nbformat_minor": 5
}
