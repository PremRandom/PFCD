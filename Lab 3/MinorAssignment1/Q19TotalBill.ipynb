{
 "cells": [
  {
   "cell_type": "code",
   "execution_count": 1,
   "id": "c46a333c",
   "metadata": {},
   "outputs": [],
   "source": [
    "def total_bill_calc(cost):\n",
    "    tax = cost * 0.05\n",
    "    tip = cost * 0.18\n",
    "    total = cost + tax + tip\n",
    "    return tax, tip, total"
   ]
  },
  {
   "cell_type": "code",
   "execution_count": 9,
   "id": "18b8b66e",
   "metadata": {},
   "outputs": [
    {
     "name": "stdout",
     "output_type": "stream",
     "text": [
      "Enter the cost of meal: 5634\n",
      "tax amount: RS. 281.70\n",
      "tip amount: RS. 1014.12\n",
      "total amount: RS. 6929.82\n"
     ]
    }
   ],
   "source": [
    "if __name__ == \"__main__\":\n",
    "    cost = int(input(\"Enter the cost of meal: \"))\n",
    "    tax, tip, total = total_bill_calc(cost)\n",
    "    \n",
    "    print(f\"tax amount: RS.{tax: .2f}\\ntip amount: RS.{tip: .2f}\\ntotal amount: RS.{total: .2f}\")"
   ]
  }
 ],
 "metadata": {
  "kernelspec": {
   "display_name": "Python 3 (ipykernel)",
   "language": "python",
   "name": "python3"
  },
  "language_info": {
   "codemirror_mode": {
    "name": "ipython",
    "version": 3
   },
   "file_extension": ".py",
   "mimetype": "text/x-python",
   "name": "python",
   "nbconvert_exporter": "python",
   "pygments_lexer": "ipython3",
   "version": "3.11.4"
  }
 },
 "nbformat": 4,
 "nbformat_minor": 5
}
