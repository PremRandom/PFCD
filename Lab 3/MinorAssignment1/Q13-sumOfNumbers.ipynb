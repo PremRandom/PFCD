{
 "cells": [
  {
   "cell_type": "code",
   "execution_count": 3,
   "id": "34923d19",
   "metadata": {},
   "outputs": [],
   "source": [
    "def sumation(n):\n",
    "    return (n*(n+1))//2"
   ]
  },
  {
   "cell_type": "code",
   "execution_count": 4,
   "id": "94679134",
   "metadata": {},
   "outputs": [
    {
     "name": "stdout",
     "output_type": "stream",
     "text": [
      "Enter a Number to find its sumation: 5\n",
      "15\n"
     ]
    }
   ],
   "source": [
    "if __name__ == \"__main__\":\n",
    "    n = int(input(\"Enter a Number to find its sumation: \"))\n",
    "    print(sumation(n))"
   ]
  }
 ],
 "metadata": {
  "kernelspec": {
   "display_name": "Python 3 (ipykernel)",
   "language": "python",
   "name": "python3"
  },
  "language_info": {
   "codemirror_mode": {
    "name": "ipython",
    "version": 3
   },
   "file_extension": ".py",
   "mimetype": "text/x-python",
   "name": "python",
   "nbconvert_exporter": "python",
   "pygments_lexer": "ipython3",
   "version": "3.11.4"
  }
 },
 "nbformat": 4,
 "nbformat_minor": 5
}
