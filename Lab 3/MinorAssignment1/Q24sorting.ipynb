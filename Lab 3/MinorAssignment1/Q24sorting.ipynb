{
 "cells": [
  {
   "cell_type": "code",
   "execution_count": 5,
   "id": "e0ea0a8a",
   "metadata": {},
   "outputs": [
    {
     "name": "stdout",
     "output_type": "stream",
     "text": [
      "Enter 3 numbers: \n",
      "Enter num 1: 54\n",
      "Enter num 2: 123\n",
      "Enter num 3: 9\n",
      "Sorted order is: 9, 54, 123\n"
     ]
    }
   ],
   "source": [
    "if __name__ == \"__main__\":\n",
    "    \n",
    "    print(\"Enter 3 numbers: \")\n",
    "    a = int(input(\"Enter num 1: \"))\n",
    "    b = int(input(\"Enter num 2: \"))\n",
    "    c = int(input(\"Enter num 3: \"))\n",
    "    min_num = min(a,b,c)\n",
    "    max_num = max(a,b,c)\n",
    "    mid = (a+b+c)-(min_num+max_num)\n",
    "    \n",
    "    print(f\"Sorted order is: {min_num}, {mid}, {max_num}\")"
   ]
  }
 ],
 "metadata": {
  "kernelspec": {
   "display_name": "Python 3 (ipykernel)",
   "language": "python",
   "name": "python3"
  },
  "language_info": {
   "codemirror_mode": {
    "name": "ipython",
    "version": 3
   },
   "file_extension": ".py",
   "mimetype": "text/x-python",
   "name": "python",
   "nbconvert_exporter": "python",
   "pygments_lexer": "ipython3",
   "version": "3.11.4"
  }
 },
 "nbformat": 4,
 "nbformat_minor": 5
}
