{
 "cells": [
  {
   "cell_type": "code",
   "execution_count": 1,
   "id": "a109df75",
   "metadata": {},
   "outputs": [],
   "source": [
    "import math"
   ]
  },
  {
   "cell_type": "code",
   "execution_count": 2,
   "id": "d51acd97",
   "metadata": {},
   "outputs": [
    {
     "name": "stdout",
     "output_type": "stream",
     "text": [
      "enter number a: 20\n",
      "enter number b: 10\n",
      "a+b = 30\n",
      "a-b = 10\n",
      "a*b = 200\n",
      "a/b = 2.0\n",
      "a rem b = 0\n",
      "log10(a) = 1.3010299956639813\n"
     ]
    }
   ],
   "source": [
    "if __name__ == \"__main__\":\n",
    "    \n",
    "    a = int(input(\"enter number a: \"))\n",
    "    b = int(input(\"enter number b: \"))\n",
    "    print(f\"a+b = {a+b}\")\n",
    "    print(f\"a-b = {a-b}\")\n",
    "    print(f\"a*b = {a*b}\")\n",
    "    print(f\"a/b = {a/b}\")\n",
    "    print(f\"a rem b = {a%b}\")\n",
    "    print(f\"log10(a) = {math.log10(a)}\")\n",
    "    \n",
    "    "
   ]
  }
 ],
 "metadata": {
  "kernelspec": {
   "display_name": "Python 3 (ipykernel)",
   "language": "python",
   "name": "python3"
  },
  "language_info": {
   "codemirror_mode": {
    "name": "ipython",
    "version": 3
   },
   "file_extension": ".py",
   "mimetype": "text/x-python",
   "name": "python",
   "nbconvert_exporter": "python",
   "pygments_lexer": "ipython3",
   "version": "3.11.4"
  }
 },
 "nbformat": 4,
 "nbformat_minor": 5
}
