{
 "cells": [
  {
   "cell_type": "code",
   "execution_count": 1,
   "id": "9d89d2e7",
   "metadata": {},
   "outputs": [],
   "source": [
    "def final_speed(v0, a ,d):\n",
    "    return (((v0 ** 2) + (2*a*d))**0.5)"
   ]
  },
  {
   "cell_type": "code",
   "execution_count": 2,
   "id": "4f527b86",
   "metadata": {},
   "outputs": [
    {
     "name": "stdout",
     "output_type": "stream",
     "text": [
      "Enter free fall height: 10\n",
      "final velocity is: 14.0\n"
     ]
    }
   ],
   "source": [
    "if __name__ == \"__main__\":\n",
    "    H = int(input(\"Enter free fall height: \"))\n",
    "    print(f\"final velocity is: {final_speed(0,9.8,H)}\")"
   ]
  }
 ],
 "metadata": {
  "kernelspec": {
   "display_name": "Python 3 (ipykernel)",
   "language": "python",
   "name": "python3"
  },
  "language_info": {
   "codemirror_mode": {
    "name": "ipython",
    "version": 3
   },
   "file_extension": ".py",
   "mimetype": "text/x-python",
   "name": "python",
   "nbconvert_exporter": "python",
   "pygments_lexer": "ipython3",
   "version": "3.11.4"
  }
 },
 "nbformat": 4,
 "nbformat_minor": 5
}
