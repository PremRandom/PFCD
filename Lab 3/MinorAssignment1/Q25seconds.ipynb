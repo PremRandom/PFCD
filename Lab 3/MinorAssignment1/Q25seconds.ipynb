{
 "cells": [
  {
   "cell_type": "code",
   "execution_count": 1,
   "id": "74b8a5c5",
   "metadata": {},
   "outputs": [],
   "source": [
    "def ret_seconds(dd,hh,mm,ss):\n",
    "    return((((((dd*24)+hh)*60)+mm)*60) + ss)"
   ]
  },
  {
   "cell_type": "code",
   "execution_count": 4,
   "id": "541ec882",
   "metadata": {},
   "outputs": [
    {
     "name": "stdout",
     "output_type": "stream",
     "text": [
      "Enter days: 1\n",
      "Enter hours: 0\n",
      "Enter minutes: 0\n",
      "Enter seconds: 0\n",
      "total seconds in given duration is 86400 seconds\n"
     ]
    }
   ],
   "source": [
    "if __name__ == \"__main__\":\n",
    "    dd = int(input(\"Enter days: \"))\n",
    "    hh = int(input(\"Enter hours: \"))\n",
    "    mm = int(input(\"Enter minutes: \"))\n",
    "    ss = int(input(\"Enter seconds: \"))\n",
    "    \n",
    "    print(f\"total seconds in given duration is {ret_seconds(dd,hh,mm,ss)} seconds\")"
   ]
  }
 ],
 "metadata": {
  "kernelspec": {
   "display_name": "Python 3 (ipykernel)",
   "language": "python",
   "name": "python3"
  },
  "language_info": {
   "codemirror_mode": {
    "name": "ipython",
    "version": 3
   },
   "file_extension": ".py",
   "mimetype": "text/x-python",
   "name": "python",
   "nbconvert_exporter": "python",
   "pygments_lexer": "ipython3",
   "version": "3.11.4"
  }
 },
 "nbformat": 4,
 "nbformat_minor": 5
}
