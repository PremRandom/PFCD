{
 "cells": [
  {
   "cell_type": "code",
   "execution_count": 1,
   "id": "088b6bb5",
   "metadata": {},
   "outputs": [],
   "source": [
    "import math"
   ]
  },
  {
   "cell_type": "code",
   "execution_count": 5,
   "id": "49be7ca4",
   "metadata": {},
   "outputs": [
    {
     "name": "stdout",
     "output_type": "stream",
     "text": [
      "e = 2.718281828459045, pi = 3.141592653589793\n",
      "e^pi = 23.140692632779263, pi^e = 22.45915771836104\n",
      "ok\n"
     ]
    }
   ],
   "source": [
    "if __name__ == \"__main__\":\n",
    "    e_val = math.e\n",
    "    pi_val = math.pi\n",
    "    \n",
    "    print(f\"e = {e_val}, pi = {pi_val}\")\n",
    "    print(f\"e^pi = {e_val ** pi_val}, pi^e = {pi_val**e_val}\")\n",
    "    \n",
    "    if((e_val ** pi_val)>(pi_val**e_val)):\n",
    "        print(\"ok\")\n",
    "    else:\n",
    "        print(\"ok anyway\")"
   ]
  }
 ],
 "metadata": {
  "kernelspec": {
   "display_name": "Python 3 (ipykernel)",
   "language": "python",
   "name": "python3"
  },
  "language_info": {
   "codemirror_mode": {
    "name": "ipython",
    "version": 3
   },
   "file_extension": ".py",
   "mimetype": "text/x-python",
   "name": "python",
   "nbconvert_exporter": "python",
   "pygments_lexer": "ipython3",
   "version": "3.11.4"
  }
 },
 "nbformat": 4,
 "nbformat_minor": 5
}
